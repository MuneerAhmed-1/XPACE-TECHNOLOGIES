{
 "cells": [
  {
   "cell_type": "markdown",
   "id": "95610f83",
   "metadata": {},
   "source": [
    "# 1. Data Exploration and Preprocessing:\n",
    "- Perform exploratory data analysis to understand the distribution and relationships between different variables. \n",
    "- Handle missing or inconsistent data and normalize or scale numerical features where necessary (e.g., Temperature, Pressure, Vibration). \n",
    "- Convert categorical variables, such as Maintenance History, into numerical representations. "
   ]
  },
  {
   "cell_type": "code",
   "execution_count": 1,
   "id": "b05d5bde",
   "metadata": {},
   "outputs": [],
   "source": [
    "import pandas as pd\n",
    "import matplotlib.pyplot as plt\n",
    "import seaborn as sns\n",
    "from sklearn.model_selection import train_test_split\n",
    "from sklearn.ensemble import RandomForestClassifier\n",
    "from sklearn.metrics import accuracy_score, classification_report"
   ]
  },
  {
   "cell_type": "code",
   "execution_count": 2,
   "id": "e14c3e37",
   "metadata": {},
   "outputs": [
    {
     "data": {
      "text/html": [
       "<div>\n",
       "<style scoped>\n",
       "    .dataframe tbody tr th:only-of-type {\n",
       "        vertical-align: middle;\n",
       "    }\n",
       "\n",
       "    .dataframe tbody tr th {\n",
       "        vertical-align: top;\n",
       "    }\n",
       "\n",
       "    .dataframe thead th {\n",
       "        text-align: right;\n",
       "    }\n",
       "</style>\n",
       "<table border=\"1\" class=\"dataframe\">\n",
       "  <thead>\n",
       "    <tr style=\"text-align: right;\">\n",
       "      <th></th>\n",
       "      <th>Machine ID</th>\n",
       "      <th>Timestamp</th>\n",
       "      <th>Temperature</th>\n",
       "      <th>Pressure</th>\n",
       "      <th>Vibration</th>\n",
       "      <th>Operational Hours</th>\n",
       "      <th>Maintenance History</th>\n",
       "      <th>Failure</th>\n",
       "    </tr>\n",
       "  </thead>\n",
       "  <tbody>\n",
       "    <tr>\n",
       "      <th>0</th>\n",
       "      <td>e0d1202e-ada0-4f29-9972-e57008e11d70</td>\n",
       "      <td>6/1/2023 11:59</td>\n",
       "      <td>55.57</td>\n",
       "      <td>146.26</td>\n",
       "      <td>4.12</td>\n",
       "      <td>16540</td>\n",
       "      <td>Yes</td>\n",
       "      <td>No</td>\n",
       "    </tr>\n",
       "    <tr>\n",
       "      <th>1</th>\n",
       "      <td>5b36c9d4-ec3a-4459-a408-461563caa1db</td>\n",
       "      <td>3/5/2023 3:35</td>\n",
       "      <td>87.08</td>\n",
       "      <td>459.80</td>\n",
       "      <td>2.92</td>\n",
       "      <td>3199</td>\n",
       "      <td>No</td>\n",
       "      <td>Yes</td>\n",
       "    </tr>\n",
       "    <tr>\n",
       "      <th>2</th>\n",
       "      <td>8a8f478c-bea8-4b9b-a8c0-004cb8034c72</td>\n",
       "      <td>5/25/2023 6:33</td>\n",
       "      <td>62.24</td>\n",
       "      <td>176.03</td>\n",
       "      <td>3.84</td>\n",
       "      <td>3989</td>\n",
       "      <td>No</td>\n",
       "      <td>No</td>\n",
       "    </tr>\n",
       "    <tr>\n",
       "      <th>3</th>\n",
       "      <td>c8437f2d-a812-447c-88fb-6abe325fde5b</td>\n",
       "      <td>12/30/2022 8:03</td>\n",
       "      <td>56.98</td>\n",
       "      <td>117.75</td>\n",
       "      <td>0.96</td>\n",
       "      <td>3797</td>\n",
       "      <td>No</td>\n",
       "      <td>No</td>\n",
       "    </tr>\n",
       "    <tr>\n",
       "      <th>4</th>\n",
       "      <td>fe8b5529-e3d3-408a-bff6-5b2fbe37393a</td>\n",
       "      <td>12/14/2022 17:22</td>\n",
       "      <td>55.12</td>\n",
       "      <td>274.42</td>\n",
       "      <td>2.64</td>\n",
       "      <td>4054</td>\n",
       "      <td>Yes</td>\n",
       "      <td>Yes</td>\n",
       "    </tr>\n",
       "  </tbody>\n",
       "</table>\n",
       "</div>"
      ],
      "text/plain": [
       "                             Machine ID         Timestamp  Temperature  \\\n",
       "0  e0d1202e-ada0-4f29-9972-e57008e11d70    6/1/2023 11:59        55.57   \n",
       "1  5b36c9d4-ec3a-4459-a408-461563caa1db     3/5/2023 3:35        87.08   \n",
       "2  8a8f478c-bea8-4b9b-a8c0-004cb8034c72    5/25/2023 6:33        62.24   \n",
       "3  c8437f2d-a812-447c-88fb-6abe325fde5b   12/30/2022 8:03        56.98   \n",
       "4  fe8b5529-e3d3-408a-bff6-5b2fbe37393a  12/14/2022 17:22        55.12   \n",
       "\n",
       "   Pressure  Vibration  Operational Hours Maintenance History Failure  \n",
       "0    146.26       4.12              16540                 Yes      No  \n",
       "1    459.80       2.92               3199                  No     Yes  \n",
       "2    176.03       3.84               3989                  No      No  \n",
       "3    117.75       0.96               3797                  No      No  \n",
       "4    274.42       2.64               4054                 Yes     Yes  "
      ]
     },
     "execution_count": 2,
     "metadata": {},
     "output_type": "execute_result"
    }
   ],
   "source": [
    "data = pd.read_csv('DS-predictive-maintenance-data.csv')\n",
    "data.head()"
   ]
  },
  {
   "cell_type": "code",
   "execution_count": 3,
   "id": "d2b081ca",
   "metadata": {},
   "outputs": [
    {
     "name": "stdout",
     "output_type": "stream",
     "text": [
      "<class 'pandas.core.frame.DataFrame'>\n",
      "RangeIndex: 363 entries, 0 to 362\n",
      "Data columns (total 8 columns):\n",
      " #   Column               Non-Null Count  Dtype  \n",
      "---  ------               --------------  -----  \n",
      " 0   Machine ID           363 non-null    object \n",
      " 1   Timestamp            363 non-null    object \n",
      " 2   Temperature          363 non-null    float64\n",
      " 3   Pressure             363 non-null    float64\n",
      " 4   Vibration            363 non-null    float64\n",
      " 5   Operational Hours    363 non-null    int64  \n",
      " 6   Maintenance History  363 non-null    object \n",
      " 7   Failure              363 non-null    object \n",
      "dtypes: float64(3), int64(1), object(4)\n",
      "memory usage: 22.8+ KB\n"
     ]
    }
   ],
   "source": [
    "data.info()"
   ]
  },
  {
   "cell_type": "code",
   "execution_count": 4,
   "id": "6b59c6b2",
   "metadata": {},
   "outputs": [
    {
     "name": "stdout",
     "output_type": "stream",
     "text": [
      "Missing values:\n",
      " Machine ID             0\n",
      "Timestamp              0\n",
      "Temperature            0\n",
      "Pressure               0\n",
      "Vibration              0\n",
      "Operational Hours      0\n",
      "Maintenance History    0\n",
      "Failure                0\n",
      "dtype: int64\n"
     ]
    }
   ],
   "source": [
    "print(\"Missing values:\\n\", data.isnull().sum())"
   ]
  },
  {
   "cell_type": "code",
   "execution_count": 5,
   "id": "fef4d1cf",
   "metadata": {},
   "outputs": [
    {
     "name": "stderr",
     "output_type": "stream",
     "text": [
      "C:\\Users\\dell\\AppData\\Local\\Temp/ipykernel_12012/3865100419.py:2: FutureWarning: Dropping of nuisance columns in DataFrame reductions (with 'numeric_only=None') is deprecated; in a future version this will raise TypeError.  Select only valid columns before calling the reduction.\n",
      "  data.fillna(data.mean(), inplace=True)\n"
     ]
    }
   ],
   "source": [
    "# Fill missing values (if any), here we're filling with mean for numerical columns as an example\n",
    "data.fillna(data.mean(), inplace=True)"
   ]
  },
  {
   "cell_type": "code",
   "execution_count": 6,
   "id": "f4f1e6f0",
   "metadata": {},
   "outputs": [
    {
     "data": {
      "text/html": [
       "<div>\n",
       "<style scoped>\n",
       "    .dataframe tbody tr th:only-of-type {\n",
       "        vertical-align: middle;\n",
       "    }\n",
       "\n",
       "    .dataframe tbody tr th {\n",
       "        vertical-align: top;\n",
       "    }\n",
       "\n",
       "    .dataframe thead th {\n",
       "        text-align: right;\n",
       "    }\n",
       "</style>\n",
       "<table border=\"1\" class=\"dataframe\">\n",
       "  <thead>\n",
       "    <tr style=\"text-align: right;\">\n",
       "      <th></th>\n",
       "      <th>Machine ID</th>\n",
       "      <th>Timestamp</th>\n",
       "      <th>Temperature</th>\n",
       "      <th>Pressure</th>\n",
       "      <th>Vibration</th>\n",
       "      <th>Operational Hours</th>\n",
       "      <th>Maintenance History</th>\n",
       "      <th>Failure</th>\n",
       "    </tr>\n",
       "  </thead>\n",
       "  <tbody>\n",
       "    <tr>\n",
       "      <th>0</th>\n",
       "      <td>e0d1202e-ada0-4f29-9972-e57008e11d70</td>\n",
       "      <td>6/1/2023 11:59</td>\n",
       "      <td>55.57</td>\n",
       "      <td>146.26</td>\n",
       "      <td>4.12</td>\n",
       "      <td>16540</td>\n",
       "      <td>1</td>\n",
       "      <td>0</td>\n",
       "    </tr>\n",
       "    <tr>\n",
       "      <th>1</th>\n",
       "      <td>5b36c9d4-ec3a-4459-a408-461563caa1db</td>\n",
       "      <td>3/5/2023 3:35</td>\n",
       "      <td>87.08</td>\n",
       "      <td>459.80</td>\n",
       "      <td>2.92</td>\n",
       "      <td>3199</td>\n",
       "      <td>0</td>\n",
       "      <td>1</td>\n",
       "    </tr>\n",
       "    <tr>\n",
       "      <th>2</th>\n",
       "      <td>8a8f478c-bea8-4b9b-a8c0-004cb8034c72</td>\n",
       "      <td>5/25/2023 6:33</td>\n",
       "      <td>62.24</td>\n",
       "      <td>176.03</td>\n",
       "      <td>3.84</td>\n",
       "      <td>3989</td>\n",
       "      <td>0</td>\n",
       "      <td>0</td>\n",
       "    </tr>\n",
       "    <tr>\n",
       "      <th>3</th>\n",
       "      <td>c8437f2d-a812-447c-88fb-6abe325fde5b</td>\n",
       "      <td>12/30/2022 8:03</td>\n",
       "      <td>56.98</td>\n",
       "      <td>117.75</td>\n",
       "      <td>0.96</td>\n",
       "      <td>3797</td>\n",
       "      <td>0</td>\n",
       "      <td>0</td>\n",
       "    </tr>\n",
       "    <tr>\n",
       "      <th>4</th>\n",
       "      <td>fe8b5529-e3d3-408a-bff6-5b2fbe37393a</td>\n",
       "      <td>12/14/2022 17:22</td>\n",
       "      <td>55.12</td>\n",
       "      <td>274.42</td>\n",
       "      <td>2.64</td>\n",
       "      <td>4054</td>\n",
       "      <td>1</td>\n",
       "      <td>1</td>\n",
       "    </tr>\n",
       "  </tbody>\n",
       "</table>\n",
       "</div>"
      ],
      "text/plain": [
       "                             Machine ID         Timestamp  Temperature  \\\n",
       "0  e0d1202e-ada0-4f29-9972-e57008e11d70    6/1/2023 11:59        55.57   \n",
       "1  5b36c9d4-ec3a-4459-a408-461563caa1db     3/5/2023 3:35        87.08   \n",
       "2  8a8f478c-bea8-4b9b-a8c0-004cb8034c72    5/25/2023 6:33        62.24   \n",
       "3  c8437f2d-a812-447c-88fb-6abe325fde5b   12/30/2022 8:03        56.98   \n",
       "4  fe8b5529-e3d3-408a-bff6-5b2fbe37393a  12/14/2022 17:22        55.12   \n",
       "\n",
       "   Pressure  Vibration  Operational Hours  Maintenance History  Failure  \n",
       "0    146.26       4.12              16540                    1        0  \n",
       "1    459.80       2.92               3199                    0        1  \n",
       "2    176.03       3.84               3989                    0        0  \n",
       "3    117.75       0.96               3797                    0        0  \n",
       "4    274.42       2.64               4054                    1        1  "
      ]
     },
     "execution_count": 6,
     "metadata": {},
     "output_type": "execute_result"
    }
   ],
   "source": [
    "# Convert categorical 'Maintenance History' and 'Failure' to numerical\n",
    "data['Maintenance History'] = data['Maintenance History'].apply(lambda x: 1 if x == 'Yes' else 0)\n",
    "data['Failure'] = data['Failure'].apply(lambda x: 1 if x == 'Yes' else 0)\n",
    "\n",
    "# Check the result\n",
    "data.head()"
   ]
  },
  {
   "cell_type": "markdown",
   "id": "147efdda",
   "metadata": {},
   "source": [
    "# 2. Feature Engineering:\n",
    "- Create new features that might help in predicting failures, such as the average operating temperature, pressure fluctuations, or the total vibration over time.\n",
    "- Investigate the time-series nature of the data to detect trends and patterns that could lead to equipment failure. "
   ]
  },
  {
   "cell_type": "code",
   "execution_count": 7,
   "id": "fe5258d8",
   "metadata": {},
   "outputs": [
    {
     "data": {
      "text/html": [
       "<div>\n",
       "<style scoped>\n",
       "    .dataframe tbody tr th:only-of-type {\n",
       "        vertical-align: middle;\n",
       "    }\n",
       "\n",
       "    .dataframe tbody tr th {\n",
       "        vertical-align: top;\n",
       "    }\n",
       "\n",
       "    .dataframe thead th {\n",
       "        text-align: right;\n",
       "    }\n",
       "</style>\n",
       "<table border=\"1\" class=\"dataframe\">\n",
       "  <thead>\n",
       "    <tr style=\"text-align: right;\">\n",
       "      <th></th>\n",
       "      <th>Machine ID</th>\n",
       "      <th>Timestamp</th>\n",
       "      <th>Temperature</th>\n",
       "      <th>Pressure</th>\n",
       "      <th>Vibration</th>\n",
       "      <th>Operational Hours</th>\n",
       "      <th>Maintenance History</th>\n",
       "      <th>Failure</th>\n",
       "      <th>Avg_Temperature</th>\n",
       "      <th>Pressure_Diff</th>\n",
       "    </tr>\n",
       "  </thead>\n",
       "  <tbody>\n",
       "    <tr>\n",
       "      <th>0</th>\n",
       "      <td>e0d1202e-ada0-4f29-9972-e57008e11d70</td>\n",
       "      <td>6/1/2023 11:59</td>\n",
       "      <td>55.57</td>\n",
       "      <td>146.26</td>\n",
       "      <td>4.12</td>\n",
       "      <td>16540</td>\n",
       "      <td>1</td>\n",
       "      <td>0</td>\n",
       "      <td>0.000</td>\n",
       "      <td>0.00</td>\n",
       "    </tr>\n",
       "    <tr>\n",
       "      <th>1</th>\n",
       "      <td>5b36c9d4-ec3a-4459-a408-461563caa1db</td>\n",
       "      <td>3/5/2023 3:35</td>\n",
       "      <td>87.08</td>\n",
       "      <td>459.80</td>\n",
       "      <td>2.92</td>\n",
       "      <td>3199</td>\n",
       "      <td>0</td>\n",
       "      <td>1</td>\n",
       "      <td>0.000</td>\n",
       "      <td>313.54</td>\n",
       "    </tr>\n",
       "    <tr>\n",
       "      <th>2</th>\n",
       "      <td>8a8f478c-bea8-4b9b-a8c0-004cb8034c72</td>\n",
       "      <td>5/25/2023 6:33</td>\n",
       "      <td>62.24</td>\n",
       "      <td>176.03</td>\n",
       "      <td>3.84</td>\n",
       "      <td>3989</td>\n",
       "      <td>0</td>\n",
       "      <td>0</td>\n",
       "      <td>0.000</td>\n",
       "      <td>-283.77</td>\n",
       "    </tr>\n",
       "    <tr>\n",
       "      <th>3</th>\n",
       "      <td>c8437f2d-a812-447c-88fb-6abe325fde5b</td>\n",
       "      <td>12/30/2022 8:03</td>\n",
       "      <td>56.98</td>\n",
       "      <td>117.75</td>\n",
       "      <td>0.96</td>\n",
       "      <td>3797</td>\n",
       "      <td>0</td>\n",
       "      <td>0</td>\n",
       "      <td>0.000</td>\n",
       "      <td>-58.28</td>\n",
       "    </tr>\n",
       "    <tr>\n",
       "      <th>4</th>\n",
       "      <td>fe8b5529-e3d3-408a-bff6-5b2fbe37393a</td>\n",
       "      <td>12/14/2022 17:22</td>\n",
       "      <td>55.12</td>\n",
       "      <td>274.42</td>\n",
       "      <td>2.64</td>\n",
       "      <td>4054</td>\n",
       "      <td>1</td>\n",
       "      <td>1</td>\n",
       "      <td>63.398</td>\n",
       "      <td>156.67</td>\n",
       "    </tr>\n",
       "  </tbody>\n",
       "</table>\n",
       "</div>"
      ],
      "text/plain": [
       "                             Machine ID         Timestamp  Temperature  \\\n",
       "0  e0d1202e-ada0-4f29-9972-e57008e11d70    6/1/2023 11:59        55.57   \n",
       "1  5b36c9d4-ec3a-4459-a408-461563caa1db     3/5/2023 3:35        87.08   \n",
       "2  8a8f478c-bea8-4b9b-a8c0-004cb8034c72    5/25/2023 6:33        62.24   \n",
       "3  c8437f2d-a812-447c-88fb-6abe325fde5b   12/30/2022 8:03        56.98   \n",
       "4  fe8b5529-e3d3-408a-bff6-5b2fbe37393a  12/14/2022 17:22        55.12   \n",
       "\n",
       "   Pressure  Vibration  Operational Hours  Maintenance History  Failure  \\\n",
       "0    146.26       4.12              16540                    1        0   \n",
       "1    459.80       2.92               3199                    0        1   \n",
       "2    176.03       3.84               3989                    0        0   \n",
       "3    117.75       0.96               3797                    0        0   \n",
       "4    274.42       2.64               4054                    1        1   \n",
       "\n",
       "   Avg_Temperature  Pressure_Diff  \n",
       "0            0.000           0.00  \n",
       "1            0.000         313.54  \n",
       "2            0.000        -283.77  \n",
       "3            0.000         -58.28  \n",
       "4           63.398         156.67  "
      ]
     },
     "execution_count": 7,
     "metadata": {},
     "output_type": "execute_result"
    }
   ],
   "source": [
    "# Create new features such as moving averages or differences\n",
    "data['Avg_Temperature'] = data['Temperature'].rolling(window=5).mean()\n",
    "data['Pressure_Diff'] = data['Pressure'].diff()\n",
    "\n",
    "# Fill NaN values created by rolling and diff\n",
    "data.fillna(0, inplace=True)\n",
    "\n",
    "# Check new features\n",
    "data.head()"
   ]
  },
  {
   "cell_type": "markdown",
   "id": "81efe6a3",
   "metadata": {},
   "source": [
    "# 3. Model Development:\n",
    "- Split the dataset into training and testing sets.\n",
    "- Develop a predictive model using algorithms like Random Forest, Support Vector Machine, or Gradient Boosting.\n",
    "- Fine-tune the model using cross-validation and evaluate its performance using metrics like accuracy, precision, recall, and the F1-score."
   ]
  },
  {
   "cell_type": "code",
   "execution_count": 14,
   "id": "e5320a68",
   "metadata": {},
   "outputs": [],
   "source": [
    "# Features (X) and target (y)\n",
    "X = data[['Temperature', 'Pressure', 'Vibration', 'Operational Hours', 'Maintenance History', 'Avg_Temperature', \n",
    "          'Pressure_Diff']]\n",
    "y = data['Failure']\n",
    "\n",
    "# Split into train and test sets (80% training, 20% testing)\n",
    "X_train, X_test, y_train, y_test = train_test_split(X, y, test_size=0.2, random_state=42)"
   ]
  },
  {
   "cell_type": "code",
   "execution_count": 9,
   "id": "8b07cf02",
   "metadata": {},
   "outputs": [],
   "source": [
    "# Initialize the Random Forest model\n",
    "model = RandomForestClassifier(n_estimators=100, random_state=42)\n",
    "\n",
    "# Train the model\n",
    "model.fit(X_train, y_train)\n",
    "\n",
    "# Make predictions\n",
    "y_pred = model.predict(X_test)\n",
    "\n",
    "# Evaluate the model\n",
    "accuracy = accuracy_score(y_test, y_pred)"
   ]
  },
  {
   "cell_type": "code",
   "execution_count": 10,
   "id": "86181b4c",
   "metadata": {},
   "outputs": [
    {
     "name": "stdout",
     "output_type": "stream",
     "text": [
      "Accuracy: 0.41\n",
      "\n",
      "Classification Report:\n",
      "               precision    recall  f1-score   support\n",
      "\n",
      "           0       0.32      0.46      0.38        28\n",
      "           1       0.53      0.38      0.44        45\n",
      "\n",
      "    accuracy                           0.41        73\n",
      "   macro avg       0.42      0.42      0.41        73\n",
      "weighted avg       0.45      0.41      0.42        73\n",
      "\n"
     ]
    }
   ],
   "source": [
    "print(f\"Accuracy: {accuracy:.2f}\\n\")\n",
    "print(\"Classification Report:\\n\", classification_report(y_test, y_pred))"
   ]
  },
  {
   "cell_type": "markdown",
   "id": "cd33fd92",
   "metadata": {},
   "source": [
    "# 4. Predictive Maintenance Strategy: \n",
    "- Based on the model's predictions, design a maintenance strategy that includes scheduling maintenance before failures are likely to occur.\n",
    "- Suggest the optimal maintenance intervals and any additional measures the company should take to prevent unexpected failures. "
   ]
  },
  {
   "cell_type": "code",
   "execution_count": 11,
   "id": "b611bc8b",
   "metadata": {},
   "outputs": [
    {
     "data": {
      "text/html": [
       "<div>\n",
       "<style scoped>\n",
       "    .dataframe tbody tr th:only-of-type {\n",
       "        vertical-align: middle;\n",
       "    }\n",
       "\n",
       "    .dataframe tbody tr th {\n",
       "        vertical-align: top;\n",
       "    }\n",
       "\n",
       "    .dataframe thead th {\n",
       "        text-align: right;\n",
       "    }\n",
       "</style>\n",
       "<table border=\"1\" class=\"dataframe\">\n",
       "  <thead>\n",
       "    <tr style=\"text-align: right;\">\n",
       "      <th></th>\n",
       "      <th>Machine ID</th>\n",
       "      <th>Predicted Failure</th>\n",
       "      <th>Maintenance Suggestion</th>\n",
       "    </tr>\n",
       "  </thead>\n",
       "  <tbody>\n",
       "    <tr>\n",
       "      <th>0</th>\n",
       "      <td>e0d1202e-ada0-4f29-9972-e57008e11d70</td>\n",
       "      <td>0</td>\n",
       "      <td>No Maintenance Needed</td>\n",
       "    </tr>\n",
       "    <tr>\n",
       "      <th>1</th>\n",
       "      <td>5b36c9d4-ec3a-4459-a408-461563caa1db</td>\n",
       "      <td>1</td>\n",
       "      <td>Schedule Maintenance</td>\n",
       "    </tr>\n",
       "    <tr>\n",
       "      <th>2</th>\n",
       "      <td>8a8f478c-bea8-4b9b-a8c0-004cb8034c72</td>\n",
       "      <td>0</td>\n",
       "      <td>No Maintenance Needed</td>\n",
       "    </tr>\n",
       "    <tr>\n",
       "      <th>3</th>\n",
       "      <td>c8437f2d-a812-447c-88fb-6abe325fde5b</td>\n",
       "      <td>1</td>\n",
       "      <td>Schedule Maintenance</td>\n",
       "    </tr>\n",
       "    <tr>\n",
       "      <th>4</th>\n",
       "      <td>fe8b5529-e3d3-408a-bff6-5b2fbe37393a</td>\n",
       "      <td>1</td>\n",
       "      <td>Schedule Maintenance</td>\n",
       "    </tr>\n",
       "  </tbody>\n",
       "</table>\n",
       "</div>"
      ],
      "text/plain": [
       "                             Machine ID  Predicted Failure  \\\n",
       "0  e0d1202e-ada0-4f29-9972-e57008e11d70                  0   \n",
       "1  5b36c9d4-ec3a-4459-a408-461563caa1db                  1   \n",
       "2  8a8f478c-bea8-4b9b-a8c0-004cb8034c72                  0   \n",
       "3  c8437f2d-a812-447c-88fb-6abe325fde5b                  1   \n",
       "4  fe8b5529-e3d3-408a-bff6-5b2fbe37393a                  1   \n",
       "\n",
       "  Maintenance Suggestion  \n",
       "0  No Maintenance Needed  \n",
       "1   Schedule Maintenance  \n",
       "2  No Maintenance Needed  \n",
       "3   Schedule Maintenance  \n",
       "4   Schedule Maintenance  "
      ]
     },
     "execution_count": 11,
     "metadata": {},
     "output_type": "execute_result"
    }
   ],
   "source": [
    "# If the model predicts failure (1), suggest scheduling maintenance\n",
    "data['Predicted Failure'] = model.predict(X)\n",
    "\n",
    "# Suggest maintenance if failure is predicted\n",
    "data['Maintenance Suggestion'] = data['Predicted Failure'].apply(lambda x: 'Schedule Maintenance' if x == 1 else 'No Maintenance Needed')\n",
    "\n",
    "# Preview maintenance suggestions\n",
    "data[['Machine ID', 'Predicted Failure', 'Maintenance Suggestion']].head()"
   ]
  },
  {
   "cell_type": "markdown",
   "id": "27d029da",
   "metadata": {},
   "source": [
    "# 5. Visualization:\n",
    "- Create visualizations that show the relationship between the machine's operational parameters and its likelihood of failure. "
   ]
  },
  {
   "cell_type": "code",
   "execution_count": 12,
   "id": "8c9186ad",
   "metadata": {},
   "outputs": [
    {
     "data": {
      "image/png": "[encoded data removed]",
      "text/plain": [
       "<Figure size 720x432 with 1 Axes>"
      ]
     },
     "metadata": {
      "needs_background": "light"
     },
     "output_type": "display_data"
    }
   ],
   "source": [
    "# Plotting the relationship between Temperature and Failure\n",
    "plt.figure(figsize=(10, 6))\n",
    "sns.boxplot(x='Failure', y='Temperature', data=data)\n",
    "plt.title('Temperature vs Failure')\n",
    "plt.show()"
   ]
  },
  {
   "cell_type": "code",
   "execution_count": 13,
   "id": "e47ef6c0",
   "metadata": {},
   "outputs": [
    {
     "data": {
      "image/png": "[encoded data removed]",
      "text/plain": [
       "<Figure size 720x432 with 1 Axes>"
      ]
     },
     "metadata": {
      "needs_background": "light"
     },
     "output_type": "display_data"
    }
   ],
   "source": [
    "# Visualizing the importance of features in the Random Forest model\n",
    "importances = model.feature_importances_\n",
    "features = X.columns\n",
    "\n",
    "# Plotting feature importance\n",
    "plt.figure(figsize=(10, 6))\n",
    "sns.barplot(x=importances, y=features)\n",
    "plt.title('Feature Importance')\n",
    "plt.show()"
   ]
  }
 ],
 "metadata": {
  "kernelspec": {
   "display_name": "Python 3 (ipykernel)",
   "language": "python",
   "name": "python3"
  },
  "language_info": {
   "codemirror_mode": {
    "name": "ipython",
    "version": 3
   },
   "file_extension": ".py",
   "mimetype": "text/x-python",
   "name": "python",
   "nbconvert_exporter": "python",
   "pygments_lexer": "ipython3",
   "version": "3.9.7"
  }
 },
 "nbformat": 4,
 "nbformat_minor": 5
}
