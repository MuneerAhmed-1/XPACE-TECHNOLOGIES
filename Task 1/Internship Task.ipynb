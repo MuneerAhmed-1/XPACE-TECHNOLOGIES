{
 "cells": [
  {
   "cell_type": "markdown",
   "id": "2f03999d",
   "metadata": {},
   "source": [
    "# Importing libraries and loading the dataset"
   ]
  },
  {
   "cell_type": "code",
   "execution_count": 1,
   "id": "14e71498",
   "metadata": {},
   "outputs": [],
   "source": [
    "# importing Libraries\n",
    "import pandas as pd\n",
    "import matplotlib.pyplot as plt\n",
    "import seaborn as sns\n",
    "from datetime import datetime"
   ]
  },
  {
   "cell_type": "code",
   "execution_count": 2,
   "id": "06afcaf5",
   "metadata": {},
   "outputs": [],
   "source": [
    "dataset = pd.read_csv('sales_data.csv')"
   ]
  },
  {
   "cell_type": "code",
   "execution_count": 3,
   "id": "92de98a5",
   "metadata": {},
   "outputs": [
    {
     "name": "stdout",
     "output_type": "stream",
     "text": [
      "<class 'pandas.core.frame.DataFrame'>\n",
      "RangeIndex: 363 entries, 0 to 362\n",
      "Data columns (total 10 columns):\n",
      " #   Column        Non-Null Count  Dtype  \n",
      "---  ------        --------------  -----  \n",
      " 0   Customer ID   363 non-null    object \n",
      " 1   Order ID      363 non-null    object \n",
      " 2   Order Date    363 non-null    object \n",
      " 3   Product ID    363 non-null    object \n",
      " 4   Product Name  363 non-null    object \n",
      " 5   Category      363 non-null    object \n",
      " 6   Quantity      363 non-null    int64  \n",
      " 7   Unit Price    363 non-null    float64\n",
      " 8   Region        363 non-null    object \n",
      " 9   Total Amount  363 non-null    float64\n",
      "dtypes: float64(2), int64(1), object(7)\n",
      "memory usage: 28.5+ KB\n"
     ]
    }
   ],
   "source": [
    "# checking dataset\n",
    "dataset.info()"
   ]
  },
  {
   "cell_type": "code",
   "execution_count": 4,
   "id": "aa4ad6c8",
   "metadata": {},
   "outputs": [
    {
     "data": {
      "text/html": [
       "<div>\n",
       "<style scoped>\n",
       "    .dataframe tbody tr th:only-of-type {\n",
       "        vertical-align: middle;\n",
       "    }\n",
       "\n",
       "    .dataframe tbody tr th {\n",
       "        vertical-align: top;\n",
       "    }\n",
       "\n",
       "    .dataframe thead th {\n",
       "        text-align: right;\n",
       "    }\n",
       "</style>\n",
       "<table border=\"1\" class=\"dataframe\">\n",
       "  <thead>\n",
       "    <tr style=\"text-align: right;\">\n",
       "      <th></th>\n",
       "      <th>Customer ID</th>\n",
       "      <th>Order ID</th>\n",
       "      <th>Order Date</th>\n",
       "      <th>Product ID</th>\n",
       "      <th>Product Name</th>\n",
       "      <th>Category</th>\n",
       "      <th>Quantity</th>\n",
       "      <th>Unit Price</th>\n",
       "      <th>Region</th>\n",
       "      <th>Total Amount</th>\n",
       "    </tr>\n",
       "  </thead>\n",
       "  <tbody>\n",
       "    <tr>\n",
       "      <th>0</th>\n",
       "      <td>8a80ddb1-8615-4452-adce-db56c9385365</td>\n",
       "      <td>d929f0c8-5600-456b-9360-ae114e339871</td>\n",
       "      <td>2021-12-25</td>\n",
       "      <td>9c485900-229d-4b96-ac99-374754d40e1c</td>\n",
       "      <td>T-shirt</td>\n",
       "      <td>Accessories</td>\n",
       "      <td>2</td>\n",
       "      <td>55.23</td>\n",
       "      <td>North</td>\n",
       "      <td>110.46</td>\n",
       "    </tr>\n",
       "    <tr>\n",
       "      <th>1</th>\n",
       "      <td>ac664d43-893a-47a1-bdd7-139f73a360a7</td>\n",
       "      <td>38d57142-b1f3-4b25-ae2e-e7404d2df736</td>\n",
       "      <td>2022-10-08</td>\n",
       "      <td>3ff68652-ba71-4610-9284-71f778fd2819</td>\n",
       "      <td>Smartphone</td>\n",
       "      <td>Clothing</td>\n",
       "      <td>1</td>\n",
       "      <td>217.55</td>\n",
       "      <td>South</td>\n",
       "      <td>217.55</td>\n",
       "    </tr>\n",
       "    <tr>\n",
       "      <th>2</th>\n",
       "      <td>ebbc4ba3-d24f-4e25-a585-15c8e6bacbd7</td>\n",
       "      <td>58a7f2a2-5682-4510-b94e-cb56d076880d</td>\n",
       "      <td>2022-11-30</td>\n",
       "      <td>99ad1f2f-fa2e-4b27-8952-7b23249eeebc</td>\n",
       "      <td>T-shirt</td>\n",
       "      <td>Books</td>\n",
       "      <td>5</td>\n",
       "      <td>145.57</td>\n",
       "      <td>West</td>\n",
       "      <td>727.85</td>\n",
       "    </tr>\n",
       "    <tr>\n",
       "      <th>3</th>\n",
       "      <td>5f3f88e8-b638-4cfd-9af8-e14b63d9082f</td>\n",
       "      <td>12af190c-f3a3-4209-b7a7-fa7a66337df8</td>\n",
       "      <td>2023-02-12</td>\n",
       "      <td>b767b606-a5c1-46fc-83fa-78de163b8fce</td>\n",
       "      <td>Watch</td>\n",
       "      <td>Clothing</td>\n",
       "      <td>4</td>\n",
       "      <td>11.74</td>\n",
       "      <td>North</td>\n",
       "      <td>46.96</td>\n",
       "    </tr>\n",
       "    <tr>\n",
       "      <th>4</th>\n",
       "      <td>2029cf6c-dd8e-430c-ae24-586d3a5f422a</td>\n",
       "      <td>d283a232-0b04-49e9-bad3-6dcfd115b421</td>\n",
       "      <td>2023-02-17</td>\n",
       "      <td>15baeab4-63b9-4b98-a52f-40697bcd0c0f</td>\n",
       "      <td>Watch</td>\n",
       "      <td>Accessories</td>\n",
       "      <td>4</td>\n",
       "      <td>387.85</td>\n",
       "      <td>East</td>\n",
       "      <td>1551.40</td>\n",
       "    </tr>\n",
       "  </tbody>\n",
       "</table>\n",
       "</div>"
      ],
      "text/plain": [
       "                            Customer ID                              Order ID  \\\n",
       "0  8a80ddb1-8615-4452-adce-db56c9385365  d929f0c8-5600-456b-9360-ae114e339871   \n",
       "1  ac664d43-893a-47a1-bdd7-139f73a360a7  38d57142-b1f3-4b25-ae2e-e7404d2df736   \n",
       "2  ebbc4ba3-d24f-4e25-a585-15c8e6bacbd7  58a7f2a2-5682-4510-b94e-cb56d076880d   \n",
       "3  5f3f88e8-b638-4cfd-9af8-e14b63d9082f  12af190c-f3a3-4209-b7a7-fa7a66337df8   \n",
       "4  2029cf6c-dd8e-430c-ae24-586d3a5f422a  d283a232-0b04-49e9-bad3-6dcfd115b421   \n",
       "\n",
       "   Order Date                            Product ID Product Name     Category  \\\n",
       "0  2021-12-25  9c485900-229d-4b96-ac99-374754d40e1c      T-shirt  Accessories   \n",
       "1  2022-10-08  3ff68652-ba71-4610-9284-71f778fd2819   Smartphone     Clothing   \n",
       "2  2022-11-30  99ad1f2f-fa2e-4b27-8952-7b23249eeebc      T-shirt        Books   \n",
       "3  2023-02-12  b767b606-a5c1-46fc-83fa-78de163b8fce        Watch     Clothing   \n",
       "4  2023-02-17  15baeab4-63b9-4b98-a52f-40697bcd0c0f        Watch  Accessories   \n",
       "\n",
       "   Quantity  Unit Price Region  Total Amount  \n",
       "0         2       55.23  North        110.46  \n",
       "1         1      217.55  South        217.55  \n",
       "2         5      145.57   West        727.85  \n",
       "3         4       11.74  North         46.96  \n",
       "4         4      387.85   East       1551.40  "
      ]
     },
     "execution_count": 4,
     "metadata": {},
     "output_type": "execute_result"
    }
   ],
   "source": [
    "# checking dataset\n",
    "dataset.head()"
   ]
  },
  {
   "cell_type": "markdown",
   "id": "9e727f0a",
   "metadata": {},
   "source": [
    "# Task 1: Data Cleaning\n",
    "- Handle any missing values in the dataset.\n",
    "- Standardize the date format for consistency.\n",
    "- Remove any duplicate records to ensure data accuracy."
   ]
  },
  {
   "cell_type": "code",
   "execution_count": 5,
   "id": "3638a3f2",
   "metadata": {},
   "outputs": [],
   "source": [
    "# handle missing values \n",
    "dataset = dataset.dropna()"
   ]
  },
  {
   "cell_type": "code",
   "execution_count": 6,
   "id": "8c034442",
   "metadata": {},
   "outputs": [
    {
     "data": {
      "text/plain": [
       "Index(['Customer ID', 'Order ID', 'Order Date', 'Product ID', 'Product Name',\n",
       "       'Category', 'Quantity', 'Unit Price', 'Region', 'Total Amount'],\n",
       "      dtype='object')"
      ]
     },
     "execution_count": 6,
     "metadata": {},
     "output_type": "execute_result"
    }
   ],
   "source": [
    "dataset.columns"
   ]
  },
  {
   "cell_type": "code",
   "execution_count": 7,
   "id": "70dcc74b",
   "metadata": {},
   "outputs": [
    {
     "data": {
      "text/html": [
       "<div>\n",
       "<style scoped>\n",
       "    .dataframe tbody tr th:only-of-type {\n",
       "        vertical-align: middle;\n",
       "    }\n",
       "\n",
       "    .dataframe tbody tr th {\n",
       "        vertical-align: top;\n",
       "    }\n",
       "\n",
       "    .dataframe thead th {\n",
       "        text-align: right;\n",
       "    }\n",
       "</style>\n",
       "<table border=\"1\" class=\"dataframe\">\n",
       "  <thead>\n",
       "    <tr style=\"text-align: right;\">\n",
       "      <th></th>\n",
       "      <th>Customer ID</th>\n",
       "      <th>Order ID</th>\n",
       "      <th>Order Date</th>\n",
       "      <th>Product ID</th>\n",
       "      <th>Product Name</th>\n",
       "      <th>Category</th>\n",
       "      <th>Quantity</th>\n",
       "      <th>Unit Price</th>\n",
       "      <th>Region</th>\n",
       "      <th>Total Amount</th>\n",
       "    </tr>\n",
       "  </thead>\n",
       "  <tbody>\n",
       "    <tr>\n",
       "      <th>0</th>\n",
       "      <td>8a80ddb1-8615-4452-adce-db56c9385365</td>\n",
       "      <td>d929f0c8-5600-456b-9360-ae114e339871</td>\n",
       "      <td>2021-12-25</td>\n",
       "      <td>9c485900-229d-4b96-ac99-374754d40e1c</td>\n",
       "      <td>T-shirt</td>\n",
       "      <td>Accessories</td>\n",
       "      <td>2</td>\n",
       "      <td>55.23</td>\n",
       "      <td>North</td>\n",
       "      <td>110.46</td>\n",
       "    </tr>\n",
       "    <tr>\n",
       "      <th>1</th>\n",
       "      <td>ac664d43-893a-47a1-bdd7-139f73a360a7</td>\n",
       "      <td>38d57142-b1f3-4b25-ae2e-e7404d2df736</td>\n",
       "      <td>2022-10-08</td>\n",
       "      <td>3ff68652-ba71-4610-9284-71f778fd2819</td>\n",
       "      <td>Smartphone</td>\n",
       "      <td>Clothing</td>\n",
       "      <td>1</td>\n",
       "      <td>217.55</td>\n",
       "      <td>South</td>\n",
       "      <td>217.55</td>\n",
       "    </tr>\n",
       "    <tr>\n",
       "      <th>2</th>\n",
       "      <td>ebbc4ba3-d24f-4e25-a585-15c8e6bacbd7</td>\n",
       "      <td>58a7f2a2-5682-4510-b94e-cb56d076880d</td>\n",
       "      <td>2022-11-30</td>\n",
       "      <td>99ad1f2f-fa2e-4b27-8952-7b23249eeebc</td>\n",
       "      <td>T-shirt</td>\n",
       "      <td>Books</td>\n",
       "      <td>5</td>\n",
       "      <td>145.57</td>\n",
       "      <td>West</td>\n",
       "      <td>727.85</td>\n",
       "    </tr>\n",
       "  </tbody>\n",
       "</table>\n",
       "</div>"
      ],
      "text/plain": [
       "                            Customer ID                              Order ID  \\\n",
       "0  8a80ddb1-8615-4452-adce-db56c9385365  d929f0c8-5600-456b-9360-ae114e339871   \n",
       "1  ac664d43-893a-47a1-bdd7-139f73a360a7  38d57142-b1f3-4b25-ae2e-e7404d2df736   \n",
       "2  ebbc4ba3-d24f-4e25-a585-15c8e6bacbd7  58a7f2a2-5682-4510-b94e-cb56d076880d   \n",
       "\n",
       "   Order Date                            Product ID Product Name     Category  \\\n",
       "0  2021-12-25  9c485900-229d-4b96-ac99-374754d40e1c      T-shirt  Accessories   \n",
       "1  2022-10-08  3ff68652-ba71-4610-9284-71f778fd2819   Smartphone     Clothing   \n",
       "2  2022-11-30  99ad1f2f-fa2e-4b27-8952-7b23249eeebc      T-shirt        Books   \n",
       "\n",
       "   Quantity  Unit Price Region  Total Amount  \n",
       "0         2       55.23  North        110.46  \n",
       "1         1      217.55  South        217.55  \n",
       "2         5      145.57   West        727.85  "
      ]
     },
     "execution_count": 7,
     "metadata": {},
     "output_type": "execute_result"
    }
   ],
   "source": [
    "dataset.head(3)"
   ]
  },
  {
   "cell_type": "code",
   "execution_count": 8,
   "id": "1e7fcf7e",
   "metadata": {},
   "outputs": [
    {
     "data": {
      "text/plain": [
       "0     2021-12-25\n",
       "1     2022-10-08\n",
       "2     2022-11-30\n",
       "3     2023-02-12\n",
       "4     2023-02-17\n",
       "         ...    \n",
       "358   2023-02-03\n",
       "359   2021-11-07\n",
       "360   2022-02-01\n",
       "361   2023-02-16\n",
       "362   2022-03-15\n",
       "Name: Order Date, Length: 363, dtype: datetime64[ns]"
      ]
     },
     "execution_count": 8,
     "metadata": {},
     "output_type": "execute_result"
    }
   ],
   "source": [
    "# standardize date format\n",
    "dataset['Order Date'] = pd.to_datetime(dataset['Order Date'], format='%Y-%m-%d')\n",
    "dataset['Order Date']"
   ]
  },
  {
   "cell_type": "code",
   "execution_count": 9,
   "id": "38a3025d",
   "metadata": {},
   "outputs": [],
   "source": [
    "# removing duplicates\n",
    "dataset = dataset.drop_duplicates()"
   ]
  },
  {
   "cell_type": "code",
   "execution_count": 10,
   "id": "ae1ac765",
   "metadata": {},
   "outputs": [
    {
     "name": "stdout",
     "output_type": "stream",
     "text": [
      "<class 'pandas.core.frame.DataFrame'>\n",
      "Int64Index: 363 entries, 0 to 362\n",
      "Data columns (total 10 columns):\n",
      " #   Column        Non-Null Count  Dtype         \n",
      "---  ------        --------------  -----         \n",
      " 0   Customer ID   363 non-null    object        \n",
      " 1   Order ID      363 non-null    object        \n",
      " 2   Order Date    363 non-null    datetime64[ns]\n",
      " 3   Product ID    363 non-null    object        \n",
      " 4   Product Name  363 non-null    object        \n",
      " 5   Category      363 non-null    object        \n",
      " 6   Quantity      363 non-null    int64         \n",
      " 7   Unit Price    363 non-null    float64       \n",
      " 8   Region        363 non-null    object        \n",
      " 9   Total Amount  363 non-null    float64       \n",
      "dtypes: datetime64[ns](1), float64(2), int64(1), object(6)\n",
      "memory usage: 31.2+ KB\n"
     ]
    }
   ],
   "source": [
    "# verify data cleaning\n",
    "dataset.info()"
   ]
  },
  {
   "cell_type": "markdown",
   "id": "25f8fa7a",
   "metadata": {},
   "source": [
    "# Task 2: Customer Segmentation\n",
    "- Use RFM (Recency, Frequency, Monetary) analysis to segment customers into different groups based on their purchasing behavior.\n",
    "- Identify key customer segments such as \"High-Value Customers,\" \"At-Risk Customers,\" and \"New Customers.\""
   ]
  },
  {
   "cell_type": "code",
   "execution_count": 11,
   "id": "a482678a",
   "metadata": {},
   "outputs": [
    {
     "data": {
      "text/plain": [
       "New Customer    182\n",
       "At-Risk         181\n",
       "Name: Segment, dtype: int64"
      ]
     },
     "execution_count": 11,
     "metadata": {},
     "output_type": "execute_result"
    }
   ],
   "source": [
    "# reference date for recency calculation\n",
    "reference_date = dataset['Order Date'].max()\n",
    "\n",
    "# RFM calculation\n",
    "rfm_table = dataset.groupby('Customer ID').agg({\n",
    "    'Order Date': lambda x: (reference_date - x.max()).days,  # recency\n",
    "    'Order ID': 'count',  # frequency\n",
    "    'Total Amount': 'sum'  # monetary\n",
    "}).reset_index()\n",
    "\n",
    "rfm_table.columns = ['Customer ID', 'Recency', 'Frequency', 'Monetary']\n",
    "\n",
    "# quantiles for segmentation\n",
    "quantiles = rfm_table[['Recency', 'Frequency', 'Monetary']].quantile([0.25, 0.5, 0.75]).to_dict()\n",
    "\n",
    "# RFM scoring function\n",
    "def rfm_score(x, metric, quantiles):\n",
    "    if metric == 'Recency':\n",
    "        if x <= quantiles[metric][0.25]:\n",
    "            return 1\n",
    "        elif x <= quantiles[metric][0.5]:\n",
    "            return 2\n",
    "        elif x <= quantiles[metric][0.75]:\n",
    "            return 3\n",
    "        else:\n",
    "            return 4\n",
    "    else:\n",
    "        if x <= quantiles[metric][0.25]:\n",
    "            return 4\n",
    "        elif x <= quantiles[metric][0.5]:\n",
    "            return 3\n",
    "        elif x <= quantiles[metric][0.75]:\n",
    "            return 2\n",
    "        else:\n",
    "            return 1\n",
    "\n",
    "# apply RFM score\n",
    "rfm_table['R_Score'] = rfm_table['Recency'].apply(rfm_score, args=('Recency', quantiles))\n",
    "rfm_table['F_Score'] = rfm_table['Frequency'].apply(rfm_score, args=('Frequency', quantiles))\n",
    "rfm_table['M_Score'] = rfm_table['Monetary'].apply(rfm_score, args=('Monetary', quantiles))\n",
    "\n",
    "# combine scores\n",
    "rfm_table['RFM_Score'] = rfm_table['R_Score'].map(str) + rfm_table['F_Score'].map(str) + rfm_table['M_Score'].map(str)\n",
    "\n",
    "# modify the segment classification\n",
    "rfm_table['Segment'] = rfm_table.apply(\n",
    "    lambda row: \n",
    "    'High-Value' if (row['R_Score'] <= 2 and row['F_Score'] <= 2 and row['M_Score'] <= 2) else\n",
    "    'At-Risk' if row['R_Score'] >= 3 else\n",
    "    'New Customer' if row['F_Score'] == 4 else \n",
    "    'Other', axis=1\n",
    ")\n",
    "\n",
    "# display customer segments\n",
    "rfm_table['Segment'].value_counts()"
   ]
  },
  {
   "cell_type": "code",
   "execution_count": 12,
   "id": "4cf3309b",
   "metadata": {},
   "outputs": [
    {
     "data": {
      "text/html": [
       "<div>\n",
       "<style scoped>\n",
       "    .dataframe tbody tr th:only-of-type {\n",
       "        vertical-align: middle;\n",
       "    }\n",
       "\n",
       "    .dataframe tbody tr th {\n",
       "        vertical-align: top;\n",
       "    }\n",
       "\n",
       "    .dataframe thead th {\n",
       "        text-align: right;\n",
       "    }\n",
       "</style>\n",
       "<table border=\"1\" class=\"dataframe\">\n",
       "  <thead>\n",
       "    <tr style=\"text-align: right;\">\n",
       "      <th></th>\n",
       "      <th>Customer ID</th>\n",
       "      <th>Recency</th>\n",
       "      <th>Frequency</th>\n",
       "      <th>Monetary</th>\n",
       "      <th>R_Score</th>\n",
       "      <th>F_Score</th>\n",
       "      <th>M_Score</th>\n",
       "      <th>RFM_Score</th>\n",
       "      <th>Segment</th>\n",
       "    </tr>\n",
       "  </thead>\n",
       "  <tbody>\n",
       "    <tr>\n",
       "      <th>0</th>\n",
       "      <td>005612ec-5aea-48d6-9a6d-cdf0f538f4da</td>\n",
       "      <td>442</td>\n",
       "      <td>1</td>\n",
       "      <td>720.52</td>\n",
       "      <td>3</td>\n",
       "      <td>4</td>\n",
       "      <td>3</td>\n",
       "      <td>343</td>\n",
       "      <td>At-Risk</td>\n",
       "    </tr>\n",
       "    <tr>\n",
       "      <th>1</th>\n",
       "      <td>01329251-44d2-4ed4-b3cb-0d6b13a4712f</td>\n",
       "      <td>184</td>\n",
       "      <td>1</td>\n",
       "      <td>3356.50</td>\n",
       "      <td>1</td>\n",
       "      <td>4</td>\n",
       "      <td>1</td>\n",
       "      <td>141</td>\n",
       "      <td>New Customer</td>\n",
       "    </tr>\n",
       "    <tr>\n",
       "      <th>2</th>\n",
       "      <td>015cda0c-7c05-45ab-8438-ac338a7db94c</td>\n",
       "      <td>511</td>\n",
       "      <td>1</td>\n",
       "      <td>1641.24</td>\n",
       "      <td>3</td>\n",
       "      <td>4</td>\n",
       "      <td>2</td>\n",
       "      <td>342</td>\n",
       "      <td>At-Risk</td>\n",
       "    </tr>\n",
       "    <tr>\n",
       "      <th>3</th>\n",
       "      <td>018c6e2c-9c84-45e1-991b-9310c5e174a5</td>\n",
       "      <td>254</td>\n",
       "      <td>1</td>\n",
       "      <td>2746.70</td>\n",
       "      <td>2</td>\n",
       "      <td>4</td>\n",
       "      <td>1</td>\n",
       "      <td>241</td>\n",
       "      <td>New Customer</td>\n",
       "    </tr>\n",
       "    <tr>\n",
       "      <th>4</th>\n",
       "      <td>02167aaa-8387-4e7e-b1fe-30c87b9a52ed</td>\n",
       "      <td>386</td>\n",
       "      <td>1</td>\n",
       "      <td>2010.51</td>\n",
       "      <td>3</td>\n",
       "      <td>4</td>\n",
       "      <td>2</td>\n",
       "      <td>342</td>\n",
       "      <td>At-Risk</td>\n",
       "    </tr>\n",
       "  </tbody>\n",
       "</table>\n",
       "</div>"
      ],
      "text/plain": [
       "                            Customer ID  Recency  Frequency  Monetary  \\\n",
       "0  005612ec-5aea-48d6-9a6d-cdf0f538f4da      442          1    720.52   \n",
       "1  01329251-44d2-4ed4-b3cb-0d6b13a4712f      184          1   3356.50   \n",
       "2  015cda0c-7c05-45ab-8438-ac338a7db94c      511          1   1641.24   \n",
       "3  018c6e2c-9c84-45e1-991b-9310c5e174a5      254          1   2746.70   \n",
       "4  02167aaa-8387-4e7e-b1fe-30c87b9a52ed      386          1   2010.51   \n",
       "\n",
       "   R_Score  F_Score  M_Score RFM_Score       Segment  \n",
       "0        3        4        3       343       At-Risk  \n",
       "1        1        4        1       141  New Customer  \n",
       "2        3        4        2       342       At-Risk  \n",
       "3        2        4        1       241  New Customer  \n",
       "4        3        4        2       342       At-Risk  "
      ]
     },
     "execution_count": 12,
     "metadata": {},
     "output_type": "execute_result"
    }
   ],
   "source": [
    "rfm_table.head()"
   ]
  },
  {
   "cell_type": "markdown",
   "id": "b800ce7d",
   "metadata": {},
   "source": [
    "# Task 3: Sales Trend Analysis\n",
    "- Analyze monthly and yearly sales trends.\n",
    "- Determine which product categories are performing best.\n",
    "- Identify the regions with the highest sales."
   ]
  },
  {
   "cell_type": "markdown",
   "id": "f8f05b0f",
   "metadata": {},
   "source": [
    "# Task 4: Data Visualization\n",
    "- Create visualizations using Matplotlib or Seaborn to represent customer segments and sales trends.\n",
    "- Include a line chart for sales over time, a bar chart for top product categories, and a pie chart for regional sales distribution."
   ]
  },
  {
   "cell_type": "code",
   "execution_count": 13,
   "id": "68a82df1",
   "metadata": {},
   "outputs": [
    {
     "data": {
      "image/png": "[encoded data removed]",
      "text/plain": [
       "<Figure size 720x432 with 1 Axes>"
      ]
     },
     "metadata": {
      "needs_background": "light"
     },
     "output_type": "display_data"
    }
   ],
   "source": [
    "# create a new column for month and year\n",
    "dataset['Month'] = dataset['Order Date'].dt.to_period('M')\n",
    "\n",
    "# group by month and sum total sales\n",
    "monthly_sales = dataset.groupby('Month').agg({'Total Amount': 'sum'})\n",
    "\n",
    "# plot the monthly sales trend\n",
    "import matplotlib.pyplot as plt\n",
    "\n",
    "plt.figure(figsize=(10, 6))\n",
    "plt.plot(monthly_sales.index.astype(str), monthly_sales['Total Amount'], marker='o')\n",
    "plt.title('Monthly Sales Trend')\n",
    "plt.xlabel('Month')\n",
    "plt.ylabel('Total Sales')\n",
    "plt.xticks(rotation=45)\n",
    "plt.show()"
   ]
  },
  {
   "cell_type": "code",
   "execution_count": 14,
   "id": "a088e3d1",
   "metadata": {},
   "outputs": [
    {
     "data": {
      "image/png": "[encoded data removed]",
      "text/plain": [
       "<Figure size 720x432 with 1 Axes>"
      ]
     },
     "metadata": {
      "needs_background": "light"
     },
     "output_type": "display_data"
    }
   ],
   "source": [
    "# top performing product categories\n",
    "category_sales = dataset.groupby('Category')['Total Amount'].sum().sort_values(ascending=False).reset_index()\n",
    "\n",
    "# plotting top product categories\n",
    "plt.figure(figsize=(10,6))\n",
    "sns.barplot(x='Total Amount', y='Category', data=category_sales)\n",
    "plt.title('Top Product Categories by Sales')\n",
    "plt.show()"
   ]
  },
  {
   "cell_type": "code",
   "execution_count": 15,
   "id": "a20e446a",
   "metadata": {},
   "outputs": [
    {
     "data": {
      "image/png": "[encoded data removed]",
      "text/plain": [
       "<Figure size 576x576 with 1 Axes>"
      ]
     },
     "metadata": {},
     "output_type": "display_data"
    }
   ],
   "source": [
    "# sales by region\n",
    "region_sales = dataset.groupby('Region')['Total Amount'].sum().reset_index()\n",
    "\n",
    "# plotting regional sales distribution\n",
    "plt.figure(figsize=(8,8))\n",
    "plt.pie(region_sales['Total Amount'], labels=region_sales['Region'], autopct='%1.1f%%')\n",
    "plt.title('Sales Distribution by Region')\n",
    "plt.show()"
   ]
  },
  {
   "cell_type": "markdown",
   "id": "9124b31c",
   "metadata": {},
   "source": [
    "# Saving the File"
   ]
  },
  {
   "cell_type": "code",
   "execution_count": 16,
   "id": "e7213ab0",
   "metadata": {},
   "outputs": [],
   "source": [
    "# saving the updated dataset\n",
    "dataset.to_csv('sales_data_updated.csv', index=False)"
   ]
  }
 ],
 "metadata": {
  "kernelspec": {
   "display_name": "Python 3 (ipykernel)",
   "language": "python",
   "name": "python3"
  },
  "language_info": {
   "codemirror_mode": {
    "name": "ipython",
    "version": 3
   },
   "file_extension": ".py",
   "mimetype": "text/x-python",
   "name": "python",
   "nbconvert_exporter": "python",
   "pygments_lexer": "ipython3",
   "version": "3.9.7"
  }
 },
 "nbformat": 4,
 "nbformat_minor": 5
}
